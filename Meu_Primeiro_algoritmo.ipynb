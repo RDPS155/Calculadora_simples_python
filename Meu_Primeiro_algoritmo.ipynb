{
  "cells": [
    {
      "cell_type": "code",
      "execution_count": null,
      "metadata": {
        "id": "S_aV76lCJp3I"
      },
      "outputs": [],
      "source": [
        "n1 = int(input(\"Digite um número: \"))\n",
        "n2 = int(input(\"Digite outro número: \"))\n",
        "formula = input (\"Digite a formula: \")\n",
        "if formula == '+':\n",
        "    print(n1+n2)\n",
        "elif formula == '-':\n",
        "    print (n1-n2)\n",
        "\n",
        "elif formula == '*':\n",
        "    print (n1*n2)\n",
        "\n",
        "elif formula == '/':\n",
        "    print (n1/n2)\n",
        "\n",
        "else:\n",
        "    print (\"Erro\")\n",
        "\n"
      ]
    }
  ],
  "metadata": {
    "colab": {
      "provenance": []
    },
    "kernelspec": {
      "display_name": "Python 3",
      "name": "python3"
    },
    "language_info": {
      "name": "python"
    }
  },
  "nbformat": 4,
  "nbformat_minor": 0
}
